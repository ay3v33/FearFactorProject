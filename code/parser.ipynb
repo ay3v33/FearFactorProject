{
 "cells": [
  {
   "cell_type": "code",
   "execution_count": 4,
   "id": "532883f6",
   "metadata": {},
   "outputs": [
    {
     "name": "stdout",
     "output_type": "stream",
     "text": [
      "As tensions between Donovia and the Western Bloc reach a boiling point, reports of mysterious drone sightings in Temple, Texas, have left residents on edge and sparked concerns about foreign interference in domestic affairs. Central Texas City Grapples with Mysterious Sightings Amidst Growing Tensions The Donovian government has issued a statement denying any involvement, but insiders claim otherwise. The situation is further complicated by the escalating global power struggle between Donovia an\n",
      "\n",
      "\n",
      "Killeen Cyber Attack Disrupts Local Power Plant. KILLEEN, TX – On the morning of March 26th, the Killeen Power Plant experienced a cyber-attack that cut power to about 2,300 homes in Killeen. Operators detected unusual network activity at 4:00 a.m. and shut off four feeder circuits as a precaution. Workers are facilitating return of power and expect power to return at around 10:00am. What Happened Systems Hit: Main control server and backup communication lines. Impact: Widespread outages in four\n"
     ]
    }
   ],
   "source": [
    "import json\n",
    "\n",
    "# Read files\n",
    "with open(\"../data/DocumentForParsing.txt\", \"r\", encoding=\"utf-8\") as f:\n",
    "    data1 = json.load(f)\n",
    "\n",
    "article_text = data1[\"text\"]\n",
    "\n",
    "with open(\"../data/DocumentForParsing2.txt\", \"r\", encoding=\"utf-8\") as f:\n",
    "    data2 = json.load(f)\n",
    "\n",
    "article_text2 = data2[\"reference_text\"]\n",
    "\n",
    "print(article_text[:500])\n",
    "print(\"\\n\")\n",
    "print(article_text2[:500])\n"
   ]
  },
  {
   "cell_type": "code",
   "execution_count": 5,
   "id": "d92aedb6",
   "metadata": {},
   "outputs": [],
   "source": [
    "# import nltk\n",
    "# Download NLTK data once\n",
    "# Vader lexicon used for sentiment analysis\n",
    "# nltk.download('vader_lexicon')"
   ]
  },
  {
   "cell_type": "code",
   "execution_count": 6,
   "id": "260ae10b",
   "metadata": {},
   "outputs": [],
   "source": [
    "from nltk.sentiment.vader import SentimentIntensityAnalyzer\n",
    "from lexicon import LEXICON as lexicon\n",
    "sia = SentimentIntensityAnalyzer()\n",
    "\n",
    "# Keep scores within [-1, 1]\n",
    "def clamp(score):\n",
    "    return max(-1.0, min(1.0, score))\n",
    "\n",
    "# Avoid division by zero if no keyword hits\n",
    "def safe_div(numer, denom):\n",
    "    return numer / denom if denom != 0 else 0.0\n",
    "\n",
    "def analyze_text(text):\n",
    "    fear = stress = morale = trust = 0\n",
    "    hits = []\n",
    "    tokens = text.lower().split()\n",
    "    max_fear = max_stress = max_morale = max_trust = 0\n",
    "\n",
    "    for tok in tokens:\n",
    "        if tok in lexicon:\n",
    "            f, s, m, t = lexicon[tok]\n",
    "            fear += f\n",
    "            stress += s\n",
    "            morale += m\n",
    "            trust += t\n",
    "\n",
    "            # Get max values for scaling\n",
    "            max_fear += max(0, f)\n",
    "            max_stress += max(0, s)\n",
    "            max_morale += max(0, m)\n",
    "            max_trust += max(0, t)\n",
    "\n",
    "            hits.append((tok, (f, s, m, t)))\n",
    "\n",
    "    comp = sia.polarity_scores(text)['compound']\n",
    "    if comp > 0:\n",
    "        morale += comp * 1.0\n",
    "        trust += comp * 0.8\n",
    "        fear -= abs(comp) * 0.3\n",
    "        stress -= abs(comp) * 0.5\n",
    "    elif comp < 0:\n",
    "        fear += abs(comp) * 0.6\n",
    "        stress += abs(comp) * 0.6\n",
    "        morale -= abs(comp) * 0.5\n",
    "        trust -= abs(comp) * 0.3\n",
    "\n",
    "    return \"fear: \" + str(clamp(safe_div(fear, max_fear))) + \", stress: \" + str(clamp(safe_div(stress, max_stress))) + \", morale: \" + str(clamp(safe_div(morale, max_morale))) + \", trust: \" + str(clamp(safe_div(trust, max_trust)))"
   ]
  },
  {
   "cell_type": "code",
   "execution_count": 7,
   "id": "c0d1dc71",
   "metadata": {},
   "outputs": [
    {
     "name": "stdout",
     "output_type": "stream",
     "text": [
      "Document 1: fear: 0.47531052631578946, stress: 0.39354347826086955, morale: 0.7241515151515152, trust: 0.9974249999999999\n",
      "Document 2: fear: 0.9506185185185185, stress: 0.8977799999999998, morale: -1.0, trust: -0.011119999999999963\n"
     ]
    }
   ],
   "source": [
    "print(\"Document 1:\", analyze_text(article_text))\n",
    "print(\"Document 2:\", analyze_text(article_text2))"
   ]
  },
  {
   "cell_type": "code",
   "execution_count": 8,
   "id": "dda1e04e",
   "metadata": {},
   "outputs": [
    {
     "name": "stdout",
     "output_type": "stream",
     "text": [
      "Donovia invades america: fear: 1.0, stress: 1.0, morale: 0.0, trust: 0.0\n",
      "America invades Donovia: fear: 1.0, stress: 1.0, morale: 0.0, trust: 0.0\n",
      "War ends: fear: 1.0, stress: 1.0, morale: 0.0, trust: 0.0\n"
     ]
    }
   ],
   "source": [
    "test2 = 'Donovia officially invaded America and has taken full control over the country'\n",
    "test3 = 'America officially invaded Donovia and has taken full control over the country'\n",
    "test4 = 'The death and destruction is over, the war has ended.'\n",
    "print(\"Donovia invades america:\", analyze_text(test2))\n",
    "print(\"America invades Donovia:\", analyze_text(test3))\n",
    "print(\"War ends:\", analyze_text(test4))"
   ]
  }
 ],
 "metadata": {
  "kernelspec": {
   "display_name": "Python 3",
   "language": "python",
   "name": "python3"
  },
  "language_info": {
   "codemirror_mode": {
    "name": "ipython",
    "version": 3
   },
   "file_extension": ".py",
   "mimetype": "text/x-python",
   "name": "python",
   "nbconvert_exporter": "python",
   "pygments_lexer": "ipython3",
   "version": "3.13.7"
  }
 },
 "nbformat": 4,
 "nbformat_minor": 5
}
