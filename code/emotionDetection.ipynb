{
 "cells": [
  {
   "cell_type": "code",
   "execution_count": 6,
   "id": "b2616e51",
   "metadata": {},
   "outputs": [
    {
     "name": "stdout",
     "output_type": "stream",
     "text": [
      "torch: 2.8.0+cpu\n",
      "CUDA available: False\n"
     ]
    },
    {
     "name": "stderr",
     "output_type": "stream",
     "text": [
      "Device set to use cpu\n"
     ]
    }
   ],
   "source": [
    "# pip install transformers datasets\n",
    "import torch\n",
    "print(\"torch:\", torch.__version__)\n",
    "print(\"CUDA available:\", torch.cuda.is_available())\n",
    "if torch.cuda.is_available():\n",
    "    print(\"GPU:\", torch.cuda.get_device_name(0))\n",
    "\n",
    "\n",
    "from datasets import load_dataset\n",
    "from transformers import pipeline, AutoTokenizer\n",
    "classifier = pipeline(\n",
    "    \"text-classification\",\n",
    "    model=\"j-hartmann/emotion-english-distilroberta-base\",\n",
    "    top_k=None,     # replaces return_all_scores=True\n",
    "    device=0        # use GPU 0\n",
    ")\n",
    "tokenizer = AutoTokenizer.from_pretrained(\"j-hartmann/emotion-english-distilroberta-base\")\n"
   ]
  },
  {
   "cell_type": "code",
   "execution_count": 28,
   "id": "539d9aed",
   "metadata": {},
   "outputs": [
    {
     "name": "stdout",
     "output_type": "stream",
     "text": [
      "Reports of unidentified drones hovering over Temple, Texas have residents on edge. Residents demand transparency and urgent action from elected leaders.\n",
      "Killeen Cyber Attack Disrupts Local Power Plant. KILLEEN, TX – On the morning of March 26th, the Killeen Power Plant experienced a cyber-attack that cut power to about 2,300 homes in Killeen. Operators detected unusual network activity at 4:00 a.m. and shut off four feeder circuits as a precaution. Workers are facilitating return of power and expect power to return at around 10:00am. What Happened Systems Hit: Main control server and backup communication lines. Impact: Widespread outages in four neighborhoods. Response: Plant staff followed emergency protocols and alerted the Killeen Police Department’s Cyber Crimes Unit. Investigation Underway The Cyber Crimes Unit is working with CISA and the FBI to trace the attack. So far, investigators have found: Malware in the plant’s network logs. IP addresses using anonymizing services. Signs that a vendor’s login credentials were compromised. Digital forensics teams are reviewing server data and vendor access records to figure out how the attackers got in. Possible Donovia Link Tensions with the Donovian Federation have risen recently, and U.S. agencies have seen similar attacks on energy systems in Europe. Early evidence—such as matching malware code and control servers—points toward possible Donovian involvement. Federal partners will help confirm any foreign connection. What’s Next The mayor has set up a task force to strengthen city networks. Steps include: Installing better intrusion detection on municipal systems. Requiring multi-factor authentication for all vendors. Sharing cyber safety tips with residents and businesses. If you notice any power issues or suspicious emails, please call the non-emergency line at (254) 501-8800 or submit a tip online at www.killeentexas.gov/report. Chief of Police said, “Protecting our city’s infrastructure is our top priority. We’re working closely with federal and state partners and will share more details as we learn them.” \n",
      "\n",
      " \n"
     ]
    }
   ],
   "source": [
    "import os\n",
    "import json\n",
    "\n",
    "# Folders containing your test files\n",
    "folders = [\"../data/low\", \"../data/med\", \"../data/high\"]\n",
    "\n",
    "# Dictionary to hold all loaded texts\n",
    "texts = {}\n",
    "\n",
    "for folder in folders:\n",
    "    for filename in os.listdir(folder):\n",
    "        if filename.endswith(\".txt\"):\n",
    "            file_path = os.path.join(folder, filename)\n",
    "            with open(file_path, \"r\", encoding=\"utf-8\") as f:\n",
    "                data = json.load(f)\n",
    "                \n",
    "                # Use filename without extension as key\n",
    "                key_base = os.path.splitext(filename)[0]\n",
    "                \n",
    "                # Save all keys from the JSON file (like 'text', 'reference_text') inside a sub-dictionary\n",
    "                texts[key_base] = {k: v for k, v in data.items()}\n",
    "\n",
    "# Example access\n",
    "print(texts[\"test1\"][\"text\"])\n",
    "print(texts[\"DocumentForParsing2\"][\"reference_text\"])"
   ]
  },
  {
   "cell_type": "code",
   "execution_count": 8,
   "id": "b86d37e3",
   "metadata": {},
   "outputs": [],
   "source": [
    "from collections import defaultdict\n",
    "\n",
    "\n",
    "def chunk_text(text, tokenizer, max_tokens=480):\n",
    "    tokens = tokenizer.encode(text)\n",
    "    chunks = [tokens[i:i + max_tokens] for i in range(0, len(tokens), max_tokens)]\n",
    "    return [tokenizer.decode(chunk) for chunk in chunks]\n",
    "\n",
    "\n",
    "def avg_emotion_scores(text, classifier, tokenizer):\n",
    "    if (len(tokenizer.encode(text)) <= 480):\n",
    "        result = classifier(text)[0]\n",
    "        return {item['label']: item['score'] for item in result}\n",
    "\n",
    "    chunks = chunk_text(text, tokenizer)\n",
    "    cumulative_scores = defaultdict(float)\n",
    "    total_chars = 0\n",
    "\n",
    "    for chunk in chunks:\n",
    "        result = classifier(chunk)[0]\n",
    "        chunk_len = len(chunk)\n",
    "        total_chars += chunk_len\n",
    "        for item in result:\n",
    "            cumulative_scores[item['label']] += item['score'] * chunk_len\n",
    "\n",
    "    averaged_scores = {label: score / total_chars for label, score in cumulative_scores.items()}\n",
    "    return averaged_scores"
   ]
  },
  {
   "cell_type": "code",
   "execution_count": 29,
   "id": "17e3eabd",
   "metadata": {},
   "outputs": [
    {
     "name": "stdout",
     "output_type": "stream",
     "text": [
      "{'fear': 0.788798451423645, 'neutral': 0.09400440752506256, 'anger': 0.09049759805202484, 'surprise': 0.010985255241394043, 'disgust': 0.009524556808173656, 'sadness': 0.003922006580978632, 'joy': 0.002267639385536313}\n",
      "{'fear': 0.7549809217453003, 'anger': 0.1463717371225357, 'sadness': 0.049290575087070465, 'surprise': 0.026841888204216957, 'neutral': 0.011862149462103844, 'disgust': 0.008166777901351452, 'joy': 0.0024859283585101366}\n",
      "{'neutral': 0.9374577403068542, 'surprise': 0.014258286915719509, 'fear': 0.013915931805968285, 'sadness': 0.012051542289555073, 'anger': 0.009648788720369339, 'disgust': 0.008449293673038483, 'joy': 0.00421846704557538}\n",
      "{'neutral': 0.7806509137153625, 'disgust': 0.08373308926820755, 'sadness': 0.05595659092068672, 'anger': 0.04798661544919014, 'fear': 0.017749501392245293, 'surprise': 0.010741558857262135, 'joy': 0.0031817734707146883}\n",
      "{'neutral': 0.8786174654960632, 'anger': 0.03598334640264511, 'disgust': 0.02693680301308632, 'sadness': 0.025738630443811417, 'fear': 0.019731668755412102, 'joy': 0.008527025580406189, 'surprise': 0.004464996978640556}\n",
      "{'fear': 0.9734414219856262, 'anger': 0.010498243384063244, 'neutral': 0.007611293811351061, 'sadness': 0.002693818649277091, 'disgust': 0.0022549801506102085, 'surprise': 0.0021186908707022667, 'joy': 0.0013814473059028387}\n",
      "{'fear': 0.8260776400566101, 'neutral': 0.09879528731107712, 'anger': 0.025667041540145874, 'sadness': 0.024905739352107048, 'disgust': 0.017436979338526726, 'surprise': 0.004275944549590349, 'joy': 0.002841448877006769}\n",
      "{'anger': 0.6356745958328247, 'disgust': 0.1854725480079651, 'fear': 0.11700055003166199, 'sadness': 0.024160398170351982, 'neutral': 0.024015700444579124, 'surprise': 0.01171511597931385, 'joy': 0.001961169997230172}\n",
      "{'fear': 0.9605690240859985, 'anger': 0.016527604311704636, 'neutral': 0.012373575940728188, 'sadness': 0.003575250506401062, 'surprise': 0.0027782421093434095, 'disgust': 0.0025369178038090467, 'joy': 0.0016393240075558424}\n",
      "{'neutral': 0.6324418783187866, 'fear': 0.18627935647964478, 'anger': 0.09183314442634583, 'disgust': 0.060873862355947495, 'sadness': 0.013777435757219791, 'surprise': 0.012342648580670357, 'joy': 0.00245161191560328}\n",
      "{'fear': 0.9541714787483215, 'neutral': 0.025803538039326668, 'anger': 0.0066817631013691425, 'surprise': 0.0060912854969501495, 'sadness': 0.002857353538274765, 'joy': 0.0022634712513536215, 'disgust': 0.0021311792079359293}\n",
      "{'fear': 0.9058251976966858, 'neutral': 0.04467705264687538, 'anger': 0.018452851101756096, 'sadness': 0.0158619936555624, 'disgust': 0.009808186441659927, 'surprise': 0.004068311769515276, 'joy': 0.001306345802731812}\n",
      "{'fear': 0.7683195575652513, 'anger': 0.11594020937209283, 'neutral': 0.08340623905590455, 'disgust': 0.013347099823773339, 'sadness': 0.01031554440133781, 'surprise': 0.0059604139267388665, 'joy': 0.0027109720466749324}\n",
      "{'fear': 0.6234105825424194, 'neutral': 0.2777073383331299, 'anger': 0.040856290608644485, 'sadness': 0.023581556975841522, 'surprise': 0.019010327756404877, 'disgust': 0.013221594505012035, 'joy': 0.0022122205700725317}\n"
     ]
    }
   ],
   "source": [
    "test1results = avg_emotion_scores(texts[\"test1\"][\"text\"], classifier, tokenizer)\n",
    "print(test1results)\n",
    "\n",
    "test2results = avg_emotion_scores(texts[\"test2\"][\"text\"], classifier, tokenizer)\n",
    "print(test2results)\n",
    "\n",
    "test3results = avg_emotion_scores(texts[\"test3\"][\"text\"], classifier, tokenizer)\n",
    "print(test3results)\n",
    "\n",
    "test4results = avg_emotion_scores(texts[\"test4\"][\"text\"], classifier, tokenizer)\n",
    "print(test4results)\n",
    "\n",
    "test5results = avg_emotion_scores(texts[\"test5\"][\"text\"], classifier, tokenizer)\n",
    "print(test5results)\n",
    "\n",
    "test6results = avg_emotion_scores(texts[\"test6\"][\"text\"], classifier, tokenizer)\n",
    "print(test6results)\n",
    "\n",
    "test7results = avg_emotion_scores(texts[\"test7\"][\"text\"], classifier, tokenizer)\n",
    "print(test7results)\n",
    "\n",
    "test8results = avg_emotion_scores(texts[\"test8\"][\"text\"], classifier, tokenizer)\n",
    "print(test8results)\n",
    "\n",
    "test9results = avg_emotion_scores(texts[\"test9\"][\"text\"], classifier, tokenizer)\n",
    "print(test9results)\n",
    "\n",
    "test10results = avg_emotion_scores(texts[\"test10\"][\"text\"], classifier, tokenizer)\n",
    "print(test10results)\n",
    "\n",
    "test11results = avg_emotion_scores(texts[\"test11\"][\"text\"], classifier, tokenizer)\n",
    "print(test11results)\n",
    "\n",
    "test12results = avg_emotion_scores(texts[\"test12\"][\"text\"], classifier, tokenizer)\n",
    "print(test12results)\n",
    "\n",
    "docForParsingResults = avg_emotion_scores(texts[\"DocumentForParsing\"][\"text\"], classifier, tokenizer)\n",
    "print(docForParsingResults)\n",
    "\n",
    "docForParsing2Results = avg_emotion_scores(texts[\"DocumentForParsing2\"][\"reference_text\"], classifier, tokenizer)\n",
    "print(docForParsing2Results)\n"
   ]
  },
  {
   "cell_type": "code",
   "execution_count": 30,
   "id": "04f661e1",
   "metadata": {},
   "outputs": [],
   "source": [
    "from typing import Dict\n",
    "\n",
    "# Clamps emotions to [-1, 1]\n",
    "def clamp(emotions: Dict[str, float]) -> Dict[str, float]:\n",
    "    for emotion in emotions:\n",
    "        if emotions[emotion] < -1:\n",
    "            emotions[emotion] = -1\n",
    "        elif emotions[emotion] > 1:\n",
    "            emotions[emotion] = 1\n",
    "    return emotions\n",
    "\n",
    "# Map emotions to fear, stress, trust and morale\n",
    "def emotions_to_fsmt(emotions: Dict[str, float]) -> Dict[str, float]:\n",
    "    fear = emotions.get(\"fear\")\n",
    "    anger = emotions.get(\"anger\")\n",
    "    neutral = emotions.get(\"neutral\")\n",
    "    disgust = emotions.get(\"disgust\")\n",
    "    sadness = emotions.get(\"sadness\")\n",
    "    joy = emotions.get(\"joy\")\n",
    "    \n",
    "    newEmotions = {\n",
    "        \"fear\": fear,\n",
    "        \"stress\": 0.75*fear + 0.4 * anger + 0.1 * disgust + 0.2 * sadness,\n",
    "        \"trust\": 0.6*joy + 0.3*neutral - 0.3*fear - 0.1*anger,\n",
    "        \"morale\": 0.5*joy + 0.3*neutral - 0.2*fear\n",
    "    }\n",
    "    \n",
    "    return clamp(newEmotions)"
   ]
  },
  {
   "cell_type": "code",
   "execution_count": 32,
   "id": "285f56bb",
   "metadata": {},
   "outputs": [
    {
     "name": "stdout",
     "output_type": "stream",
     "text": [
      "test1 {'fear': 0.788798451423645, 'stress': 0.6295347347855568, 'trust': -0.2161273893434554, 'morale': -0.1284245483344421}\n",
      "test2 {'fear': 0.7549809217453003, 'stress': 0.6354591789655387, 'trust': -0.23608124838210642, 'morale': -0.14619457533117383}\n",
      "test3 {'fear': 0.013915931805968285, 'stress': 0.01755170216783881, 'trust': 0.27862874390557407, 'morale': 0.2805633692536503}\n",
      "test4 {'fear': 0.017749501392245293, 'stress': 0.05207139933481813, 'trust': 0.22598082623444496, 'morale': 0.23223626057151703}\n",
      "test5 {'fear': 0.019731668755412102, 'stress': 0.037033496517688044, 'trust': 0.25918361973017456, 'morale': 0.2639024186879396}\n",
      "test6 {'fear': 0.9734414219856262, 'stress': 0.7350446255877614, 'trust': -0.28996999440714716, 'morale': -0.19171417260076853}\n",
      "test7 {'fear': 0.8260776400566101, 'stress': 0.6365498924627899, 'trust': -0.21904654065147042, 'morale': -0.1341562173794955}\n",
      "test8 {'fear': 0.11700055003166199, 'stress': 0.36539958529174327, 'trust': -0.09028621246106922, 'morale': -0.015214814874343575}\n",
      "test9 {'fear': 0.9605690240859985, 'stress': 0.7280065516708419, 'trust': -0.2851278004702181, 'morale': -0.18758207003120334}\n",
      "test10 {'fear': 0.18627935647964478, 'stress': 0.1852856485173106, 'trust': 0.12613640925846992, 'morale': 0.15370249815750864}\n",
      "test11 {'fear': 0.9541714787483215, 'stress': 0.7190859029302373, 'trust': -0.27782047577202323, 'morale': -0.1819614987121895}\n",
      "test12 {'fear': 0.9058251976966858, 'stress': 0.6909032560884953, 'trust': -0.25940592114347966, 'morale': -0.16710875084390864}\n",
      "docForParsing {'fear': 0.7683195575652513, 'stress': 0.6260135707854205, 'trust': -0.21544143326200835, 'morale': -0.12728655377294143}\n",
      "docForParsing2 {'fear': 0.6234105825424194, 'stress': 0.48993892399594186, 'trust': -0.10646926998160777, 'morale': -0.040263804723508656}\n"
     ]
    }
   ],
   "source": [
    "print('test1',emotions_to_fsmt(test1results))\n",
    "print('test2',emotions_to_fsmt(test2results))\n",
    "print('test3',emotions_to_fsmt(test3results))\n",
    "print('test4',emotions_to_fsmt(test4results))\n",
    "print('test5',emotions_to_fsmt(test5results))\n",
    "print('test6',emotions_to_fsmt(test6results))\n",
    "print('test7',emotions_to_fsmt(test7results))\n",
    "print('test8',emotions_to_fsmt(test8results))\n",
    "print('test9',emotions_to_fsmt(test9results))\n",
    "print('test10',emotions_to_fsmt(test10results))\n",
    "print('test11',emotions_to_fsmt(test11results))\n",
    "print('test12',emotions_to_fsmt(test12results))\n",
    "print('docForParsing',emotions_to_fsmt(docForParsingResults))\n",
    "print('docForParsing2',emotions_to_fsmt(docForParsing2Results))"
   ]
  }
 ],
 "metadata": {
  "kernelspec": {
   "display_name": "Python 3",
   "language": "python",
   "name": "python3"
  },
  "language_info": {
   "codemirror_mode": {
    "name": "ipython",
    "version": 3
   },
   "file_extension": ".py",
   "mimetype": "text/x-python",
   "name": "python",
   "nbconvert_exporter": "python",
   "pygments_lexer": "ipython3",
   "version": "3.13.9"
  }
 },
 "nbformat": 4,
 "nbformat_minor": 5
}
