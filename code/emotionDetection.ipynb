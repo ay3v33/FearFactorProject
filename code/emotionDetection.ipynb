{
 "cells": [
  {
   "cell_type": "code",
   "execution_count": 75,
   "id": "b2616e51",
   "metadata": {},
   "outputs": [
    {
     "name": "stdout",
     "output_type": "stream",
     "text": [
      "torch: 2.5.1+cu121\n",
      "CUDA available: True\n",
      "GPU: NVIDIA GeForce RTX 3060 Laptop GPU\n"
     ]
    },
    {
     "name": "stderr",
     "output_type": "stream",
     "text": [
      "Device set to use cuda:0\n"
     ]
    }
   ],
   "source": [
    "# pip install transformers datasets\n",
    "import torch\n",
    "print(\"torch:\", torch.__version__)\n",
    "print(\"CUDA available:\", torch.cuda.is_available())\n",
    "if torch.cuda.is_available():\n",
    "    print(\"GPU:\", torch.cuda.get_device_name(0))\n",
    "\n",
    "\n",
    "from datasets import load_dataset\n",
    "from transformers import pipeline, AutoTokenizer\n",
    "classifier = pipeline(\n",
    "    \"text-classification\",\n",
    "    model=\"j-hartmann/emotion-english-distilroberta-base\",\n",
    "    top_k=None,\n",
    "    device=0        # use GPU 0\n",
    ")\n",
    "tokenizer = AutoTokenizer.from_pretrained(\"j-hartmann/emotion-english-distilroberta-base\")\n"
   ]
  },
  {
   "cell_type": "code",
   "execution_count": 76,
   "id": "539d9aed",
   "metadata": {},
   "outputs": [
    {
     "name": "stdout",
     "output_type": "stream",
     "text": [
      "As tensions between Donovia and the Western Bloc reach a boiling point, reports of mysterious drone sightings in Temple, Texas, have left residents on edge and sparked concerns about foreign interference in domestic affairs. Central Texas City Grapples with Mysterious Sightings Amidst Growing Tensions The Donovian government has issued a statement denying any involvement, but insiders claim otherwise. The situation is further complicated by the escalating global power struggle between Donovia and its Western adversaries. Temple, Texas, a city in Central Texas with a population of over 70,000 residents, has become an unlikely focal point for international attention. The mysterious drone sightings have raised concerns about national security and the potential for foreign interference in domestic affairs. In recent weeks, numerous reports have surfaced from Temple residents claiming to have seen unidentified drones hovering above their homes or neighborhoods. The incidents have been characterized by the presence of sleek, silver drones emitting a high-pitched whine. Despite the Donovian government's denials, many in Temple and beyond believe that the country is involved in the drone sightings. Insiders claim that Donovian intelligence operatives have been spotted in the area, sparking fears about covert operations and espionage. Experts warn that the situation could have far-reaching consequences for global stability. 'The escalation of tensions between Donovia and the West poses a significant threat to international security,' said Dr. Maria Rodriguez, a leading expert on Donovian foreign policy. 'The mysterious drone sightings in Temple are just one symptom of a larger problem.' As the situation in Temple continues to unfold, residents are left wondering about their safety and the intentions of foreign actors. 'We just want to know what's going on,' said Jane Smith, a resident of Temple who has been affected by the drone sightings. 'We deserve answers from our government.' The Donovian government has promised to provide further information in the coming days, but so far, it remains unclear whether they are involved in the drone sightings or not. For now, the people of Temple remain on edge, waiting for clarity and reassurance from their leaders. As tensions between Donovia and the Western Bloc continue to rise, one thing is certain: this situation will not be resolved quickly. The Implications of 'Drones of Deception' The mysterious drone sightings in Temple have sparked a heated debate about national security, foreign interference, and the role of intelligence agencies. Experts say that the incident highlights the dangers of underestimating the power and capabilities of Donovian intelligence operatives. 'Donovia is known for its sophisticated military and intelligence apparatus,' said Dr. John Taylor, a former CIA analyst. 'Their ability to carry out covert operations makes them a formidable opponent in any conflict.' As the situation in Temple continues to unfold, one thing becomes clear: this is not just about mysterious drone sightings; it's about the escalating global power struggle between Donovia and its Western adversaries. A Global Power Struggle The Donovian government has long been a thorn in the side of the Western Bloc, which sees the country as an aggressive actor on the world stage. The situation in Temple is further exacerbating tensions between the two sides. Donovia's stance on various global issues, including energy policy and economic sanctions, has made it a polarizing figure among Western nations. The Donovian government denies any involvement in the mysterious drone sightings, but many believe that they are a reflection of their broader strategy to disrupt Western interests. A Growing Call for Action As the situation in Temple continues to unfold, residents and experts alike are calling for greater transparency and accountability from the Donovian government. 'The people of Temple deserve answers about what's happening in their city,' said Senator Sarah Johnson, a leading critic of Donovian foreign policy. 'We need to hold our leaders accountable for their actions and ensure that American interests are protected.' The mysterious drone sightings in Temple have sparked a renewed debate about national security, foreign interference, and the role of intelligence agencies. As tensions between Donovia and the Western Bloc continue to rise, one thing becomes clear: this situation will not be resolved quickly. A Call for Vigilance As the people of Temple wait for clarity and reassurance from their leaders, it's essential that residents remain vigilant and aware of any further developments. 'We can't afford to take our eyes off the situation in Temple,' said Dr. Maria Rodriguez. 'This is a wake-up call for all of us; we need to be prepared for the worst-case scenario.' The Future of Global Security As the situation in Temple continues to unfold, experts warn that the future of global security hangs in the balance. 'This is a pivotal moment in international relations,' said Dr. John Taylor. 'We need to work together to prevent a full-blown crisis. The consequences would be catastrophic.' A Way Forward As tensions between Donovia and the Western Bloc continue to rise, it's essential that both sides engage in constructive dialogue to find a peaceful resolution. 'We need to recognize that we're not enemies; we're fellow human beings with common interests,' said Senator Sarah Johnson. 'Let's work together to build trust and prevent further escalation.' A Final Word The mysterious drone sightings in Temple, Texas, have sent shockwaves through the community, sparking concerns about foreign interference and national security. As we move forward, it's essential that residents of Temple remain vigilant and informed. The fate of global security hangs in the balance, and only time will tell if this crisis can be averted. One thing is certain: this situation will not be resolved quickly.\n",
      "Killeen Cyber Attack Disrupts Local Power Plant. KILLEEN, TX – On the morning of March 26th, the Killeen Power Plant experienced a cyber-attack that cut power to about 2,300 homes in Killeen. Operators detected unusual network activity at 4:00 a.m. and shut off four feeder circuits as a precaution. Workers are facilitating return of power and expect power to return at around 10:00am. What Happened Systems Hit: Main control server and backup communication lines. Impact: Widespread outages in four neighborhoods. Response: Plant staff followed emergency protocols and alerted the Killeen Police Department’s Cyber Crimes Unit. Investigation Underway The Cyber Crimes Unit is working with CISA and the FBI to trace the attack. So far, investigators have found: Malware in the plant’s network logs. IP addresses using anonymizing services. Signs that a vendor’s login credentials were compromised. Digital forensics teams are reviewing server data and vendor access records to figure out how the attackers got in. Possible Donovia Link Tensions with the Donovian Federation have risen recently, and U.S. agencies have seen similar attacks on energy systems in Europe. Early evidence—such as matching malware code and control servers—points toward possible Donovian involvement. Federal partners will help confirm any foreign connection. What’s Next The mayor has set up a task force to strengthen city networks. Steps include: Installing better intrusion detection on municipal systems. Requiring multi-factor authentication for all vendors. Sharing cyber safety tips with residents and businesses. If you notice any power issues or suspicious emails, please call the non-emergency line at (254) 501-8800 or submit a tip online at www.killeentexas.gov/report. Chief of Police said, “Protecting our city’s infrastructure is our top priority. We’re working closely with federal and state partners and will share more details as we learn them.” \n",
      "\n",
      " \n"
     ]
    }
   ],
   "source": [
    "import os\n",
    "import json\n",
    "\n",
    "# Dictionary to hold all loaded texts\n",
    "texts = {}\n",
    "\n",
    "for filename in os.listdir(\"../data\"):\n",
    "    if filename.endswith(\".txt\"):\n",
    "        with open(\"../data/\" + filename, \"r\", encoding=\"utf-8\") as f:\n",
    "            data = json.load(f)\n",
    "            \n",
    "            # Use filename without extension as key\n",
    "            key_base = os.path.splitext(filename)[0]\n",
    "                \n",
    "            # Save all keys from the JSON file (like 'text', 'reference_text') inside a sub-dictionary\n",
    "            texts[key_base] = data.copy()\n",
    "\n",
    "# Example access\n",
    "print(texts[\"drones_of_deception_temple\"][\"text\"])\n",
    "print(texts[\"cyber_attack_killeen_power_plant\"][\"reference_text\"])"
   ]
  },
  {
   "cell_type": "code",
   "execution_count": 77,
   "id": "cbc80946",
   "metadata": {},
   "outputs": [
    {
     "name": "stdout",
     "output_type": "stream",
     "text": [
      "Loaded Expected Results:\n",
      "{'fear': 3, 'stress': 3, 'morale': 1, 'trust_in_authorities': 1}\n"
     ]
    }
   ],
   "source": [
    "# The directory where your expected output files are stored\n",
    "expected_outputs_dir = \"../data/expected_outputs\"\n",
    "\n",
    "# A dictionary to hold the expected results\n",
    "expected_results = {}\n",
    "\n",
    "# Check if the directory exists\n",
    "if os.path.isdir(expected_outputs_dir):\n",
    "    # Loop through each file in the directory\n",
    "    for filename in os.listdir(expected_outputs_dir):\n",
    "        # Process only JSON files\n",
    "        if filename.endswith(\".json\"):\n",
    "            file_path = os.path.join(expected_outputs_dir, filename)\n",
    "            # Use the filename without the .json extension as the key\n",
    "            key = os.path.splitext(filename)[0]\n",
    "            with open(file_path, 'r', encoding='utf-8') as f:\n",
    "                # Load the JSON data and add it to the dictionary\n",
    "                expected_results[key] = json.load(f)\n",
    "\n",
    "# Print the resulting dictionary (optional, for verification)\n",
    "print(\"Loaded Expected Results:\")\n",
    "print(expected_results[\"drones_of_deception_temple\"])"
   ]
  },
  {
   "cell_type": "code",
   "execution_count": 78,
   "id": "b86d37e3",
   "metadata": {},
   "outputs": [],
   "source": [
    "from collections import defaultdict\n",
    "\n",
    "\n",
    "def chunk_text(text, tokenizer, max_tokens=400):\n",
    "    tokens = tokenizer.encode(text)\n",
    "    chunks = [tokens[i:i + max_tokens] for i in range(0, len(tokens), max_tokens)]\n",
    "    return [tokenizer.decode(chunk) for chunk in chunks]\n",
    "\n",
    "\n",
    "def avg_emotion_scores(text, classifier, tokenizer):\n",
    "    if (len(tokenizer.encode(text)) <= 400):\n",
    "        result = classifier(text)[0]\n",
    "        return {item['label']: item['score'] for item in result}\n",
    "\n",
    "    chunks = chunk_text(text, tokenizer)\n",
    "    cumulative_scores = defaultdict(float)\n",
    "    total_chars = 0\n",
    "\n",
    "    for chunk in chunks:\n",
    "        result = classifier(chunk)[0]\n",
    "        chunk_len = len(chunk)\n",
    "        total_chars += chunk_len\n",
    "        for item in result:\n",
    "            cumulative_scores[item['label']] += item['score'] * chunk_len\n",
    "\n",
    "    averaged_scores = {label: score / total_chars for label, score in cumulative_scores.items()}\n",
    "    return averaged_scores"
   ]
  },
  {
   "cell_type": "code",
   "execution_count": 79,
   "id": "17e3eabd",
   "metadata": {},
   "outputs": [
    {
     "name": "stderr",
     "output_type": "stream",
     "text": [
      "Token indices sequence length is longer than the specified maximum sequence length for this model (1129 > 512). Running this sequence through the model will result in indexing errors\n"
     ]
    },
    {
     "name": "stdout",
     "output_type": "stream",
     "text": [
      "drones_of_deception_temple:  {'fear': 0.7602706353398871, 'anger': 0.10429053363751974, 'neutral': 0.1027084575187392, 'disgust': 0.014090057810052512, 'sadness': 0.010059505021061598, 'surprise': 0.006131273001968546, 'joy': 0.0024495590180118303}\n",
      "cyber_attack_killeen_power_plant:  {'fear': 0.5403466023699296, 'neutral': 0.313806427239273, 'surprise': 0.05438798490393844, 'sadness': 0.042338932968801986, 'anger': 0.0365296998182841, 'disgust': 0.009242527178286957, 'joy': 0.0033478991274425787}\n",
      "food_shortage_rumors:  {'disgust': 0.43370577692985535, 'anger': 0.2831280827522278, 'neutral': 0.11049191653728485, 'surprise': 0.07179553806781769, 'sadness': 0.06034587323665619, 'fear': 0.03899148479104042, 'joy': 0.0015412700595334172}\n",
      "nato_exercises_boost_confidence:  {'fear': 0.4742882251739502, 'joy': 0.2648555338382721, 'neutral': 0.21620242297649384, 'anger': 0.020228777080774307, 'disgust': 0.011500043794512749, 'sadness': 0.006775944493710995, 'surprise': 0.006148991174995899}\n",
      "virus_panic_harker_heights:  {'fear': 0.8213873505592346, 'neutral': 0.10423986613750458, 'surprise': 0.02420601062476635, 'disgust': 0.019223535433411598, 'anger': 0.017785385251045227, 'sadness': 0.011757107451558113, 'joy': 0.0014007784193381667}\n",
      "factory_explosion_false_flag:  {'neutral': 0.3301582634449005, 'anger': 0.299518346786499, 'fear': 0.19576232135295868, 'disgust': 0.13269202411174774, 'surprise': 0.028090300038456917, 'sadness': 0.011250977404415607, 'joy': 0.002527702134102583}\n",
      "community_safety_initiative:  {'neutral': 0.8669243454933167, 'fear': 0.05165528878569603, 'joy': 0.040705595165491104, 'anger': 0.016247881576418877, 'surprise': 0.01307170931249857, 'disgust': 0.006921841762959957, 'sadness': 0.004473326727747917}\n"
     ]
    }
   ],
   "source": [
    "drones_of_deception_temple_results = avg_emotion_scores(texts[\"drones_of_deception_temple\"][\"text\"], classifier, tokenizer)\n",
    "print(\"drones_of_deception_temple: \", drones_of_deception_temple_results)\n",
    "\n",
    "cyber_attack_killeen_power_plant_results = avg_emotion_scores(texts[\"cyber_attack_killeen_power_plant\"][\"reference_text\"], classifier, tokenizer)\n",
    "print(\"cyber_attack_killeen_power_plant: \", cyber_attack_killeen_power_plant_results)\n",
    "\n",
    "food_shortage_rumors_results = avg_emotion_scores(texts[\"food_shortage_rumors\"][\"reference_text\"], classifier, tokenizer)\n",
    "print(\"food_shortage_rumors: \", food_shortage_rumors_results)\n",
    "\n",
    "nato_exercises_boost_confidence_results = avg_emotion_scores(texts[\"nato_exercises_boost_confidence\"][\"reference_text\"], classifier, tokenizer)\n",
    "print(\"nato_exercises_boost_confidence: \", nato_exercises_boost_confidence_results)\n",
    "\n",
    "virus_panic_harker_heights_results = avg_emotion_scores(texts[\"virus_panic_harker_heights\"][\"text\"], classifier, tokenizer)\n",
    "print(\"virus_panic_harker_heights: \", virus_panic_harker_heights_results)\n",
    "\n",
    "factory_explosion_false_flag_results = avg_emotion_scores(texts[\"factory_explosion_false_flag\"][\"reference_text\"], classifier, tokenizer)\n",
    "print(\"factory_explosion_false_flag: \", factory_explosion_false_flag_results)\n",
    "\n",
    "community_safety_initiative_results = avg_emotion_scores(texts[\"community_safety_initiative\"][\"text\"], classifier, tokenizer)\n",
    "print(\"community_safety_initiative: \", community_safety_initiative_results)\n"
   ]
  },
  {
   "cell_type": "code",
   "execution_count": 80,
   "id": "04f661e1",
   "metadata": {},
   "outputs": [],
   "source": [
    "from typing import Dict\n",
    "\n",
    "# Clamps emotions to [-1, 1]\n",
    "def clamp(emotions: Dict[str, float]) -> Dict[str, float]:\n",
    "    for emotion in emotions:\n",
    "        if emotions[emotion] < -1:\n",
    "            emotions[emotion] = -1\n",
    "        elif emotions[emotion] > 1:\n",
    "            emotions[emotion] = 1\n",
    "    return emotions\n",
    "\n",
    "# Map emotions to fear, stress, trust and morale\n",
    "def emotions_to_fsmt(emotions: Dict[str, float]) -> Dict[str, int]:\n",
    "    fear = emotions.get(\"fear\")\n",
    "    anger = emotions.get(\"anger\")\n",
    "    neutral = emotions.get(\"neutral\")\n",
    "    disgust = emotions.get(\"disgust\")\n",
    "    sadness = emotions.get(\"sadness\")\n",
    "    joy = emotions.get(\"joy\")\n",
    "\n",
    "    fsmt_dict = {}\n",
    "    \n",
    "    if(fear > anger + neutral + disgust + sadness + joy or fear > 0.8):\n",
    "        fsmt_dict[\"Fear Level\"] = 3\n",
    "    elif(fear > 0.5 or fear > joy + neutral):\n",
    "        fsmt_dict[\"Fear Level\"] = 2\n",
    "    else:\n",
    "        fsmt_dict[\"Fear Level\"] = 1\n",
    "\n",
    "    if(sadness + anger > joy + neutral or fsmt_dict[\"Fear Level\"] == 3):\n",
    "        fsmt_dict[\"Stress Level\"] = 3\n",
    "    elif(sadness + anger > 0.5 or fsmt_dict[\"Fear Level\"] == 2):\n",
    "        fsmt_dict[\"Stress Level\"] = 2\n",
    "    else:\n",
    "        fsmt_dict[\"Stress Level\"] = 1\n",
    "\n",
    "    if(sadness + disgust + fear < neutral + joy):\n",
    "        fsmt_dict[\"Morale Level\"] = 3\n",
    "    elif(joy + neutral > 0.5):\n",
    "        fsmt_dict[\"Morale Level\"] = 2\n",
    "    else:\n",
    "        fsmt_dict[\"Morale Level\"] = 1\n",
    "\n",
    "    if(sadness + disgust + fear < joy):\n",
    "        fsmt_dict[\"Trust Level\"] = 3\n",
    "    elif(joy + neutral > sadness + disgust + fear):\n",
    "        fsmt_dict[\"Trust Level\"] = 2\n",
    "    else:\n",
    "        fsmt_dict[\"Trust Level\"] = 1\n",
    "\n",
    "    return fsmt_dict"
   ]
  },
  {
   "cell_type": "code",
   "execution_count": 81,
   "id": "285f56bb",
   "metadata": {},
   "outputs": [
    {
     "name": "stdout",
     "output_type": "stream",
     "text": [
      "drones_of_deception_temple {'Fear Level': 3, 'Stress Level': 3, 'Morale Level': 1, 'Trust Level': 1}\n",
      "Expected:  {'fear': 3, 'stress': 3, 'morale': 1, 'trust_in_authorities': 1}\n",
      "\n",
      "\n",
      "cyber_attack_killeen_power_plant {'Fear Level': 3, 'Stress Level': 3, 'Morale Level': 1, 'Trust Level': 1}\n",
      "Expected:  {'fear': 3, 'stress': 3, 'morale': 1, 'trust_in_authorities': 2}\n",
      "\n",
      "\n",
      "food_shortage_rumors {'Fear Level': 1, 'Stress Level': 3, 'Morale Level': 1, 'Trust Level': 1}\n",
      "Expected:  {'fear': 3, 'stress': 3, 'morale': 1, 'trust_in_authorities': 1}\n",
      "\n",
      "\n",
      "nato_exercises_boost_confidence {'Fear Level': 1, 'Stress Level': 1, 'Morale Level': 1, 'Trust Level': 1}\n",
      "Expected:  {'fear': 1, 'stress': 1, 'morale': 3, 'trust_in_authorities': 3}\n",
      "\n",
      "\n",
      "virus_panic_harker_heights {'Fear Level': 3, 'Stress Level': 3, 'Morale Level': 1, 'Trust Level': 1}\n",
      "Expected:  {'fear': 3, 'stress': 3, 'morale': 1, 'trust_in_authorities': 1}\n",
      "\n",
      "\n",
      "factory_explosion_false_flag {'Fear Level': 1, 'Stress Level': 1, 'Morale Level': 1, 'Trust Level': 1}\n",
      "Expected:  {'fear': 3, 'stress': 3, 'morale': 1, 'trust_in_authorities': 1}\n",
      "\n",
      "\n",
      "community_safety_initiative {'Fear Level': 1, 'Stress Level': 1, 'Morale Level': 3, 'Trust Level': 2}\n",
      "Expected:  {'fear': 1, 'stress': 1, 'morale': 2, 'trust_in_authorities': 2}\n",
      "\n",
      "\n"
     ]
    }
   ],
   "source": [
    "\n",
    "print('drones_of_deception_temple',emotions_to_fsmt(drones_of_deception_temple_results))\n",
    "print(\"Expected: \", expected_results[\"drones_of_deception_temple\"])\n",
    "print(\"\\n\")\n",
    "\n",
    "print('cyber_attack_killeen_power_plant',emotions_to_fsmt(cyber_attack_killeen_power_plant_results))\n",
    "print(\"Expected: \", expected_results[\"cyber_attack_killeen_power_plant\"])\n",
    "print(\"\\n\")\n",
    "\n",
    "print('food_shortage_rumors',emotions_to_fsmt(food_shortage_rumors_results))\n",
    "print(\"Expected: \", expected_results[\"food_shortage_rumors\"])\n",
    "print(\"\\n\")\n",
    "\n",
    "print('nato_exercises_boost_confidence',emotions_to_fsmt(nato_exercises_boost_confidence_results))\n",
    "print(\"Expected: \", expected_results[\"nato_exercises_boost_confidence\"])\n",
    "print(\"\\n\")\n",
    "\n",
    "print('virus_panic_harker_heights',emotions_to_fsmt(virus_panic_harker_heights_results))\n",
    "print(\"Expected: \", expected_results[\"virus_panic_harker_heights\"])\n",
    "print(\"\\n\")\n",
    "\n",
    "print('factory_explosion_false_flag',emotions_to_fsmt(factory_explosion_false_flag_results))\n",
    "print(\"Expected: \", expected_results[\"factory_explosion_false_flag\"])\n",
    "print(\"\\n\")\n",
    "\n",
    "print('community_safety_initiative',emotions_to_fsmt(community_safety_initiative_results))\n",
    "print(\"Expected: \", expected_results[\"community_safety_initiative\"])\n",
    "print(\"\\n\")"
   ]
  }
 ],
 "metadata": {
  "kernelspec": {
   "display_name": "Python 3",
   "language": "python",
   "name": "python3"
  },
  "language_info": {
   "codemirror_mode": {
    "name": "ipython",
    "version": 3
   },
   "file_extension": ".py",
   "mimetype": "text/x-python",
   "name": "python",
   "nbconvert_exporter": "python",
   "pygments_lexer": "ipython3",
   "version": "3.10.11"
  }
 },
 "nbformat": 4,
 "nbformat_minor": 5
}
