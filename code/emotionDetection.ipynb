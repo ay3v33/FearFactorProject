{
 "cells": [
  {
   "cell_type": "code",
   "execution_count": 12,
   "id": "b2616e51",
   "metadata": {},
   "outputs": [
    {
     "name": "stdout",
     "output_type": "stream",
     "text": [
      "torch: 2.5.1+cu121\n",
      "CUDA available: True\n",
      "GPU: NVIDIA GeForce RTX 3060 Laptop GPU\n"
     ]
    },
    {
     "name": "stderr",
     "output_type": "stream",
     "text": [
      "Device set to use cuda:0\n"
     ]
    }
   ],
   "source": [
    "# pip install transformers datasets\n",
    "import torch\n",
    "print(\"torch:\", torch.__version__)\n",
    "print(\"CUDA available:\", torch.cuda.is_available())\n",
    "if torch.cuda.is_available():\n",
    "    print(\"GPU:\", torch.cuda.get_device_name(0))\n",
    "\n",
    "\n",
    "from datasets import load_dataset\n",
    "from transformers import pipeline, AutoTokenizer\n",
    "classifier = pipeline(\n",
    "    \"text-classification\",\n",
    "    model=\"j-hartmann/emotion-english-distilroberta-base\",\n",
    "    top_k=None,\n",
    "    device=0        # use GPU 0\n",
    ")\n",
    "tokenizer = AutoTokenizer.from_pretrained(\"j-hartmann/emotion-english-distilroberta-base\")\n"
   ]
  },
  {
   "cell_type": "code",
   "execution_count": 13,
   "id": "539d9aed",
   "metadata": {},
   "outputs": [
    {
     "name": "stdout",
     "output_type": "stream",
     "text": [
      "Reports of unidentified drones hovering over Temple, Texas have residents on edge. Residents demand transparency and urgent action from elected leaders.\n",
      "Killeen Cyber Attack Disrupts Local Power Plant. KILLEEN, TX – On the morning of March 26th, the Killeen Power Plant experienced a cyber-attack that cut power to about 2,300 homes in Killeen. Operators detected unusual network activity at 4:00 a.m. and shut off four feeder circuits as a precaution. Workers are facilitating return of power and expect power to return at around 10:00am. What Happened Systems Hit: Main control server and backup communication lines. Impact: Widespread outages in four neighborhoods. Response: Plant staff followed emergency protocols and alerted the Killeen Police Department’s Cyber Crimes Unit. Investigation Underway The Cyber Crimes Unit is working with CISA and the FBI to trace the attack. So far, investigators have found: Malware in the plant’s network logs. IP addresses using anonymizing services. Signs that a vendor’s login credentials were compromised. Digital forensics teams are reviewing server data and vendor access records to figure out how the attackers got in. Possible Donovia Link Tensions with the Donovian Federation have risen recently, and U.S. agencies have seen similar attacks on energy systems in Europe. Early evidence—such as matching malware code and control servers—points toward possible Donovian involvement. Federal partners will help confirm any foreign connection. What’s Next The mayor has set up a task force to strengthen city networks. Steps include: Installing better intrusion detection on municipal systems. Requiring multi-factor authentication for all vendors. Sharing cyber safety tips with residents and businesses. If you notice any power issues or suspicious emails, please call the non-emergency line at (254) 501-8800 or submit a tip online at www.killeentexas.gov/report. Chief of Police said, “Protecting our city’s infrastructure is our top priority. We’re working closely with federal and state partners and will share more details as we learn them.” \n",
      "\n",
      " \n"
     ]
    }
   ],
   "source": [
    "import os\n",
    "import json\n",
    "\n",
    "# Folders containing your test files\n",
    "folders = [\"../data/low\", \"../data/med\", \"../data/high\"]\n",
    "\n",
    "# Dictionary to hold all loaded texts\n",
    "texts = {}\n",
    "\n",
    "for folder in folders:\n",
    "    for filename in os.listdir(folder):\n",
    "        if filename.endswith(\".txt\"):\n",
    "            file_path = os.path.join(folder, filename)\n",
    "            with open(file_path, \"r\", encoding=\"utf-8\") as f:\n",
    "                data = json.load(f)\n",
    "                \n",
    "                # Use filename without extension as key\n",
    "                key_base = os.path.splitext(filename)[0]\n",
    "                \n",
    "                # Save all keys from the JSON file (like 'text', 'reference_text') inside a sub-dictionary\n",
    "                texts[key_base] = {k: v for k, v in data.items()}\n",
    "\n",
    "# Example access\n",
    "print(texts[\"test1\"][\"text\"])\n",
    "print(texts[\"DocumentForParsing2\"][\"reference_text\"])"
   ]
  },
  {
   "cell_type": "code",
   "execution_count": 14,
   "id": "b86d37e3",
   "metadata": {},
   "outputs": [],
   "source": [
    "from collections import defaultdict\n",
    "\n",
    "\n",
    "def chunk_text(text, tokenizer, max_tokens=480):\n",
    "    tokens = tokenizer.encode(text)\n",
    "    chunks = [tokens[i:i + max_tokens] for i in range(0, len(tokens), max_tokens)]\n",
    "    return [tokenizer.decode(chunk) for chunk in chunks]\n",
    "\n",
    "\n",
    "def avg_emotion_scores(text, classifier, tokenizer):\n",
    "    if (len(tokenizer.encode(text)) <= 480):\n",
    "        result = classifier(text)[0]\n",
    "        return {item['label']: item['score'] for item in result}\n",
    "\n",
    "    chunks = chunk_text(text, tokenizer)\n",
    "    cumulative_scores = defaultdict(float)\n",
    "    total_chars = 0\n",
    "\n",
    "    for chunk in chunks:\n",
    "        result = classifier(chunk)[0]\n",
    "        chunk_len = len(chunk)\n",
    "        total_chars += chunk_len\n",
    "        for item in result:\n",
    "            cumulative_scores[item['label']] += item['score'] * chunk_len\n",
    "\n",
    "    averaged_scores = {label: score / total_chars for label, score in cumulative_scores.items()}\n",
    "    return averaged_scores"
   ]
  },
  {
   "cell_type": "code",
   "execution_count": 15,
   "id": "17e3eabd",
   "metadata": {},
   "outputs": [
    {
     "name": "stderr",
     "output_type": "stream",
     "text": [
      "Token indices sequence length is longer than the specified maximum sequence length for this model (1129 > 512). Running this sequence through the model will result in indexing errors\n"
     ]
    },
    {
     "name": "stdout",
     "output_type": "stream",
     "text": [
      "{'fear': 0.7887980937957764, 'neutral': 0.09400472044944763, 'anger': 0.09049765020608902, 'surprise': 0.010985282249748707, 'disgust': 0.009524580091238022, 'sadness': 0.003922010771930218, 'joy': 0.0022676396183669567}\n",
      "{'fear': 0.7549806833267212, 'anger': 0.14637158811092377, 'sadness': 0.049290768802165985, 'surprise': 0.02684193104505539, 'neutral': 0.011862237937748432, 'disgust': 0.008166802115738392, 'joy': 0.0024859264958649874}\n",
      "{'neutral': 0.9374578595161438, 'surprise': 0.014258219860494137, 'fear': 0.013915886171162128, 'sadness': 0.012051484547555447, 'anger': 0.009648777544498444, 'disgust': 0.008449282497167587, 'joy': 0.004218461457639933}\n",
      "{'neutral': 0.7806512117385864, 'disgust': 0.083732970058918, 'sadness': 0.05595644935965538, 'anger': 0.04798654094338417, 'fear': 0.017749501392245293, 'surprise': 0.010741572827100754, 'joy': 0.003181770443916321}\n",
      "{'neutral': 0.8786172866821289, 'anger': 0.03598341718316078, 'disgust': 0.02693687193095684, 'sadness': 0.02573867328464985, 'fear': 0.019731799140572548, 'joy': 0.008527004159986973, 'surprise': 0.004465010482817888}\n",
      "{'fear': 0.9734414219856262, 'anger': 0.010498267598450184, 'neutral': 0.007611316163092852, 'sadness': 0.002693822607398033, 'disgust': 0.002254983177408576, 'surprise': 0.002118694828823209, 'joy': 0.0013814460253342986}\n",
      "{'fear': 0.8260778188705444, 'neutral': 0.09879500418901443, 'anger': 0.02566707506775856, 'sadness': 0.02490565925836563, 'disgust': 0.017436984926462173, 'surprise': 0.0042759389616549015, 'joy': 0.0028414397966116667}\n",
      "{'anger': 0.6356748938560486, 'disgust': 0.18547238409519196, 'fear': 0.11700035631656647, 'sadness': 0.024160441011190414, 'neutral': 0.024015722796320915, 'surprise': 0.011715137399733067, 'joy': 0.0019611679017543793}\n",
      "{'fear': 0.9605692625045776, 'anger': 0.016527578234672546, 'neutral': 0.012373572215437889, 'sadness': 0.0035752481780946255, 'surprise': 0.0027782402466982603, 'disgust': 0.002536915009841323, 'joy': 0.0016393212135881186}\n",
      "{'neutral': 0.6324412822723389, 'fear': 0.18627983331680298, 'anger': 0.09183319658041, 'disgust': 0.06087404489517212, 'sadness': 0.013777447864413261, 'surprise': 0.012342654168605804, 'joy': 0.0024516116827726364}\n",
      "{'fear': 0.954171359539032, 'neutral': 0.02580360881984234, 'anger': 0.006681774742901325, 'surprise': 0.006091294344514608, 'sadness': 0.0028573547024279833, 'joy': 0.002263471018522978, 'disgust': 0.002131184097379446}\n",
      "{'fear': 0.9058251976966858, 'neutral': 0.044676970690488815, 'anger': 0.0184528436511755, 'sadness': 0.01586196944117546, 'disgust': 0.009808171540498734, 'surprise': 0.0040683080442249775, 'joy': 0.00130634312517941}\n",
      "{'fear': 0.7683197032974666, 'anger': 0.11593990138602749, 'neutral': 0.08340634795816484, 'disgust': 0.013347104321974551, 'sadness': 0.010315541799696647, 'surprise': 0.005960423356321795, 'joy': 0.0027109723974519137}\n",
      "{'fear': 0.6234102249145508, 'neutral': 0.2777077257633209, 'anger': 0.04085634648799896, 'sadness': 0.023581543937325478, 'surprise': 0.01901031658053398, 'disgust': 0.013221630826592445, 'joy': 0.0022122191730886698}\n"
     ]
    }
   ],
   "source": [
    "test1results = avg_emotion_scores(texts[\"test1\"][\"text\"], classifier, tokenizer)\n",
    "print(test1results)\n",
    "\n",
    "test2results = avg_emotion_scores(texts[\"test2\"][\"text\"], classifier, tokenizer)\n",
    "print(test2results)\n",
    "\n",
    "test3results = avg_emotion_scores(texts[\"test3\"][\"text\"], classifier, tokenizer)\n",
    "print(test3results)\n",
    "\n",
    "test4results = avg_emotion_scores(texts[\"test4\"][\"text\"], classifier, tokenizer)\n",
    "print(test4results)\n",
    "\n",
    "test5results = avg_emotion_scores(texts[\"test5\"][\"text\"], classifier, tokenizer)\n",
    "print(test5results)\n",
    "\n",
    "test6results = avg_emotion_scores(texts[\"test6\"][\"text\"], classifier, tokenizer)\n",
    "print(test6results)\n",
    "\n",
    "test7results = avg_emotion_scores(texts[\"test7\"][\"text\"], classifier, tokenizer)\n",
    "print(test7results)\n",
    "\n",
    "test8results = avg_emotion_scores(texts[\"test8\"][\"text\"], classifier, tokenizer)\n",
    "print(test8results)\n",
    "\n",
    "test9results = avg_emotion_scores(texts[\"test9\"][\"text\"], classifier, tokenizer)\n",
    "print(test9results)\n",
    "\n",
    "test10results = avg_emotion_scores(texts[\"test10\"][\"text\"], classifier, tokenizer)\n",
    "print(test10results)\n",
    "\n",
    "test11results = avg_emotion_scores(texts[\"test11\"][\"text\"], classifier, tokenizer)\n",
    "print(test11results)\n",
    "\n",
    "test12results = avg_emotion_scores(texts[\"test12\"][\"text\"], classifier, tokenizer)\n",
    "print(test12results)\n",
    "\n",
    "docForParsingResults = avg_emotion_scores(texts[\"DocumentForParsing\"][\"text\"], classifier, tokenizer)\n",
    "print(docForParsingResults)\n",
    "\n",
    "docForParsing2Results = avg_emotion_scores(texts[\"DocumentForParsing2\"][\"reference_text\"], classifier, tokenizer)\n",
    "print(docForParsing2Results)\n"
   ]
  },
  {
   "cell_type": "code",
   "execution_count": null,
   "id": "04f661e1",
   "metadata": {},
   "outputs": [],
   "source": [
    "from typing import Dict\n",
    "\n",
    "# Clamps emotions to [-1, 1]\n",
    "def clamp(emotions: Dict[str, float]) -> Dict[str, float]:\n",
    "    for emotion in emotions:\n",
    "        if emotions[emotion] < -1:\n",
    "            emotions[emotion] = -1\n",
    "        elif emotions[emotion] > 1:\n",
    "            emotions[emotion] = 1\n",
    "    return emotions\n",
    "\n",
    "# Map emotions to fear, stress, trust and morale\n",
    "def emotions_to_fsmt(emotions: Dict[str, float]) -> Dict[str, str]:\n",
    "    fear = emotions.get(\"fear\")\n",
    "    anger = emotions.get(\"anger\")\n",
    "    neutral = emotions.get(\"neutral\")\n",
    "    disgust = emotions.get(\"disgust\")\n",
    "    sadness = emotions.get(\"sadness\")\n",
    "    joy = emotions.get(\"joy\")\n",
    "\n",
    "    fsmt_dict = {}\n",
    "    \n",
    "    if(fear > anger + neutral + disgust + sadness + joy):\n",
    "        fsmt_dict[\"Fear Level\"] = 3\n",
    "    elif(fear > 50):\n",
    "        fsmt_dict[\"Fear Level\"] = 2\n",
    "    else:\n",
    "        fsmt_dict[\"Fear Level\"] = 1\n",
    "\n",
    "    if(sadness > anger + neutral + disgust + joy):\n",
    "        fsmt_dict[\"Morale Level\"] = 3\n",
    "    elif(sadness > 50):\n",
    "        fsmt_dict[\"Morale Level\"] = 2\n",
    "    else:\n",
    "        fsmt_dict[\"Morale Level\"] = 1\n",
    "\n",
    "    return fsmt_dict"
   ]
  },
  {
   "cell_type": "code",
   "execution_count": 17,
   "id": "285f56bb",
   "metadata": {},
   "outputs": [
    {
     "name": "stdout",
     "output_type": "stream",
     "text": [
      "test1 {'Fear Level': 3, 'Morale Level': 1}\n",
      "test2 {'Fear Level': 3, 'Morale Level': 1}\n",
      "test3 {'Fear Level': 1, 'Morale Level': 1}\n",
      "test4 {'Fear Level': 1, 'Morale Level': 1}\n",
      "test5 {'Fear Level': 1, 'Morale Level': 1}\n",
      "test6 {'Fear Level': 3, 'Morale Level': 1}\n",
      "test7 {'Fear Level': 3, 'Morale Level': 1}\n",
      "test8 {'Fear Level': 1, 'Morale Level': 1}\n",
      "test9 {'Fear Level': 3, 'Morale Level': 1}\n",
      "test10 {'Fear Level': 1, 'Morale Level': 1}\n",
      "test11 {'Fear Level': 3, 'Morale Level': 1}\n",
      "test12 {'Fear Level': 3, 'Morale Level': 1}\n",
      "docForParsing {'Fear Level': 3, 'Morale Level': 1}\n",
      "docForParsing2 {'Fear Level': 3, 'Morale Level': 1}\n"
     ]
    }
   ],
   "source": [
    "print('test1',emotions_to_fsmt(test1results))\n",
    "print('test2',emotions_to_fsmt(test2results))\n",
    "print('test3',emotions_to_fsmt(test3results))\n",
    "print('test4',emotions_to_fsmt(test4results))\n",
    "print('test5',emotions_to_fsmt(test5results))\n",
    "print('test6',emotions_to_fsmt(test6results))\n",
    "print('test7',emotions_to_fsmt(test7results))\n",
    "print('test8',emotions_to_fsmt(test8results))\n",
    "print('test9',emotions_to_fsmt(test9results))\n",
    "print('test10',emotions_to_fsmt(test10results))\n",
    "print('test11',emotions_to_fsmt(test11results))\n",
    "print('test12',emotions_to_fsmt(test12results))\n",
    "print('docForParsing',emotions_to_fsmt(docForParsingResults))\n",
    "print('docForParsing2',emotions_to_fsmt(docForParsing2Results))"
   ]
  }
 ],
 "metadata": {
  "kernelspec": {
   "display_name": "Python 3",
   "language": "python",
   "name": "python3"
  },
  "language_info": {
   "codemirror_mode": {
    "name": "ipython",
    "version": 3
   },
   "file_extension": ".py",
   "mimetype": "text/x-python",
   "name": "python",
   "nbconvert_exporter": "python",
   "pygments_lexer": "ipython3",
   "version": "3.10.11"
  }
 },
 "nbformat": 4,
 "nbformat_minor": 5
}
